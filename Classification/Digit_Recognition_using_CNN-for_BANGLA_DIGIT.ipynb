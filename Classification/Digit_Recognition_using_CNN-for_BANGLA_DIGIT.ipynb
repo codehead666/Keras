{
 "cells": [
  {
   "cell_type": "code",
   "execution_count": 1,
   "metadata": {
    "collapsed": true
   },
   "outputs": [],
   "source": [
    "%matplotlib inline"
   ]
  },
  {
   "cell_type": "code",
   "execution_count": 2,
   "metadata": {
    "collapsed": false
   },
   "outputs": [],
   "source": [
    "from sklearn.ensemble import RandomForestClassifier\n",
    "import numpy as np\n",
    "import pandas as pd"
   ]
  },
  {
   "cell_type": "code",
   "execution_count": 24,
   "metadata": {
    "collapsed": false
   },
   "outputs": [],
   "source": [
    "# create the training & test sets, skipping the header row with [1:]\n",
    "dataset = pd.read_csv('/media/sunny/DeepLearning/bangla digit/Digit dataset/bdd_train.csv')\n",
    "target = dataset[[0]].values.ravel()\n",
    "train = dataset.iloc[:,1:].values\n",
    "test = pd.read_csv('/media/sunny/DeepLearning/bangla digit/Digit dataset/bdd_test.csv').values\n",
    "\n",
    "# create and train the random forest\n",
    "# multi-core CPUs can use: rf = RandomForestClassifier(n_estimators=100, n_jobs=2)\n",
    "rf = RandomForestClassifier(n_estimators=100)\n",
    "rf.fit(train, target)\n",
    "pred = rf.predict(test)\n",
    "\n",
    "np.savetxt('submission_rand_forest.csv', np.c_[range(1,len(test)+1),pred], delimiter=',', header = 'ImageId,Label', comments = '', fmt='%d')\n"
   ]
  },
  {
   "cell_type": "code",
   "execution_count": 25,
   "metadata": {
    "collapsed": false
   },
   "outputs": [
    {
     "name": "stdout",
     "output_type": "stream",
     "text": [
      "   0  0.1  0.2  0.3  0.4  0.5  0.6  0.7  0.8  0.9  ...    0.518  0.519  0.520  \\\n",
      "0  1    0    0    0    0    0    0    0    0  255  ...        0      0      0   \n",
      "1  2    0  255  255  255  255  255  255  255  255  ...      255    255    255   \n",
      "2  3    0    0    0    0    0    0    0    0    0  ...        0      0      0   \n",
      "3  4    0    0    0    0    0    0    0    0    0  ...        0      0      0   \n",
      "4  5    0    0    0    0    0    0    0    0    0  ...        0      0      0   \n",
      "\n",
      "   0.521  0.522  0.523  0.524  0.525  0.526  0.527  \n",
      "0      0      0      0      0      0      0      0  \n",
      "1    255    255    255    255    255      0      0  \n",
      "2      0      0      0      0      0      0      0  \n",
      "3      0      0      0      0      0      0      0  \n",
      "4      0      0      0      0      0      0      0  \n",
      "\n",
      "[5 rows x 1025 columns]\n"
     ]
    }
   ],
   "source": [
    "print dataset.head()"
   ]
  },
  {
   "cell_type": "code",
   "execution_count": 26,
   "metadata": {
    "collapsed": false
   },
   "outputs": [],
   "source": [
    "# convert to array, specify data type, and reshape\n",
    "target = target.astype(np.uint8)\n",
    "train = np.array(train).reshape((-1, 1, 32, 32)).astype(np.uint8)\n",
    "test = np.array(test).reshape((-1, 1, 32, 32)).astype(np.uint8)"
   ]
  },
  {
   "cell_type": "code",
   "execution_count": 32,
   "metadata": {
    "collapsed": false
   },
   "outputs": [
    {
     "data": {
      "text/plain": [
       "<matplotlib.image.AxesImage at 0x7faff478ac10>"
      ]
     },
     "execution_count": 32,
     "metadata": {},
     "output_type": "execute_result"
    },
    {
     "data": {
      "image/png": "[encoded data removed]",
      "text/plain": [
       "<matplotlib.figure.Figure at 0x7faff4c5b110>"
      ]
     },
     "metadata": {},
     "output_type": "display_data"
    }
   ],
   "source": [
    "import matplotlib.pyplot as plt\n",
    "import matplotlib.cm as cm\n",
    "\n",
    "plt.imshow(train[4000][0], cmap=cm.binary) # draw the picture"
   ]
  },
  {
   "cell_type": "code",
   "execution_count": 35,
   "metadata": {
    "collapsed": false
   },
   "outputs": [],
   "source": [
    "import theano\n",
    "import lasagne\n",
    "from lasagne import layers\n",
    "from lasagne.updates import nesterov_momentum\n",
    "from nolearn.lasagne import NeuralNet\n",
    "from nolearn.lasagne import visualize\n",
    "\n",
    "net1 = NeuralNet(\n",
    "        layers=[('input', layers.InputLayer),\n",
    "                ('hidden', layers.DenseLayer),\n",
    "                ('output', layers.DenseLayer),\n",
    "                ],\n",
    "        # layer parameters:\n",
    "        input_shape=(None,1,32,32),\n",
    "        hidden_num_units=1000, # number of units in 'hidden' layer\n",
    "        output_nonlinearity=lasagne.nonlinearities.softmax,\n",
    "        output_num_units=10,  # 10 target values for the digits 0, 1, 2, ..., 9\n",
    "\n",
    "        # optimization method:\n",
    "        update=nesterov_momentum,\n",
    "        update_learning_rate=0.0001,\n",
    "        update_momentum=0.9,\n",
    "\n",
    "        max_epochs=15,\n",
    "        verbose=1,\n",
    "        )"
   ]
  },
  {
   "cell_type": "code",
   "execution_count": 36,
   "metadata": {
    "collapsed": false
   },
   "outputs": [
    {
     "name": "stdout",
     "output_type": "stream",
     "text": [
      "# Neural Network with 1035010 learnable parameters\n",
      "\n",
      "## Layer information\n",
      "\n",
      "  #  name    size\n",
      "---  ------  -------\n",
      "  0  input   1x32x32\n",
      "  1  hidden  1000\n",
      "  2  output  10\n",
      "\n",
      "  epoch    trn loss    val loss    trn/val    valid acc  dur\n",
      "-------  ----------  ----------  ---------  -----------  -----\n",
      "      1    \u001b[36m45.63903\u001b[0m    \u001b[32m19.02821\u001b[0m    2.39849      0.86889  0.88s\n",
      "      2     \u001b[36m6.80784\u001b[0m    \u001b[32m10.18273\u001b[0m    0.66857      0.90667  0.82s\n",
      "      3     \u001b[36m1.84239\u001b[0m     \u001b[32m9.91399\u001b[0m    0.18584      0.90667  0.99s\n",
      "      4     \u001b[36m0.61679\u001b[0m     \u001b[32m9.86219\u001b[0m    0.06254      0.91222  1.00s\n",
      "      5     \u001b[36m0.31223\u001b[0m    10.13757    0.03080      0.91444  0.79s\n",
      "      6     \u001b[36m0.13401\u001b[0m     \u001b[32m7.82607\u001b[0m    0.01712      0.91667  0.78s\n",
      "      7     0.18043     \u001b[32m7.22004\u001b[0m    0.02499      0.91444  0.78s\n",
      "      8     \u001b[36m0.07313\u001b[0m     8.45810    0.00865      0.91222  0.78s\n",
      "      9     0.08209     8.45394    0.00971      0.91222  0.79s\n",
      "     10     \u001b[36m0.05517\u001b[0m     8.67425    0.00636      0.91778  0.80s\n",
      "     11     \u001b[36m0.02375\u001b[0m     8.28731    0.00287      0.92444  0.86s\n",
      "     12     \u001b[36m0.00046\u001b[0m     8.35890    0.00005      0.92556  0.80s\n",
      "     13     \u001b[36m0.00000\u001b[0m     8.34094    0.00000      0.92444  0.78s\n",
      "     14     \u001b[36m0.00000\u001b[0m     8.34134    0.00000      0.92444  0.78s\n",
      "     15     \u001b[36m0.00000\u001b[0m     8.34135    0.00000      0.92444  0.78s\n"
     ]
    },
    {
     "data": {
      "text/plain": [
       "NeuralNet(X_tensor_type=None,\n",
       "     batch_iterator_test=<nolearn.lasagne.base.BatchIterator object at 0x7fafee3fbed0>,\n",
       "     batch_iterator_train=<nolearn.lasagne.base.BatchIterator object at 0x7fafee3fbdd0>,\n",
       "     check_input=True, custom_scores=None, hidden_num_units=1000,\n",
       "     input_shape=(None, 1, 32, 32),\n",
       "     layers=[('input', <class 'lasagne.layers.input.InputLayer'>), ('hidden', <class 'lasagne.layers.dense.DenseLayer'>), ('output', <class 'lasagne.layers.dense.DenseLayer'>)],\n",
       "     loss=None, max_epochs=15, more_params={},\n",
       "     objective=<function objective at 0x7fafee40b2a8>,\n",
       "     objective_loss_function=<function categorical_crossentropy at 0x7fafee52c320>,\n",
       "     on_batch_finished=[],\n",
       "     on_epoch_finished=[<nolearn.lasagne.handlers.PrintLog instance at 0x7fafe891aef0>],\n",
       "     on_training_finished=[],\n",
       "     on_training_started=[<nolearn.lasagne.handlers.PrintLayerInfo instance at 0x7fafe891ae18>],\n",
       "     output_nonlinearity=<function softmax at 0x7faff33002a8>,\n",
       "     output_num_units=10, regression=False, scores_train=[],\n",
       "     scores_valid=[],\n",
       "     train_split=<nolearn.lasagne.base.TrainSplit object at 0x7fafee3fbf10>,\n",
       "     update=<function nesterov_momentum at 0x7fafee4be1b8>,\n",
       "     update_learning_rate=0.0001, update_momentum=0.9,\n",
       "     use_label_encoder=False, verbose=1,\n",
       "     y_tensor_type=TensorType(int32, vector))"
      ]
     },
     "execution_count": 36,
     "metadata": {},
     "output_type": "execute_result"
    }
   ],
   "source": [
    "\n",
    "# Train the network\n",
    "net1.fit(train, target)"
   ]
  },
  {
   "cell_type": "code",
   "execution_count": 38,
   "metadata": {
    "collapsed": false
   },
   "outputs": [
    {
     "name": "stdout",
     "output_type": "stream",
     "text": [
      "# Neural Network with 2363428 learnable parameters\n",
      "\n",
      "## Layer information\n",
      "\n",
      "  #  name     size\n",
      "---  -------  --------\n",
      "  0  input    1x32x32\n",
      "  1  conv1    7x30x30\n",
      "  2  pool1    7x15x15\n",
      "  3  conv2    12x14x14\n",
      "  4  hidden3  1000\n",
      "  5  output   10\n",
      "\n",
      "  epoch    trn loss    val loss    trn/val    valid acc  dur\n",
      "-------  ----------  ----------  ---------  -----------  -----\n",
      "      1     \u001b[36m8.85782\u001b[0m     \u001b[32m2.05468\u001b[0m    4.31105      0.62778  2.92s\n",
      "      2     \u001b[36m1.38761\u001b[0m     \u001b[32m1.37996\u001b[0m    1.00554      0.69111  3.05s\n",
      "      3     \u001b[36m0.89309\u001b[0m     \u001b[32m1.16790\u001b[0m    0.76469      0.72667  2.84s\n",
      "      4     \u001b[36m0.67300\u001b[0m     \u001b[32m1.06023\u001b[0m    0.63477      0.74556  2.84s\n",
      "      5     \u001b[36m0.53410\u001b[0m     \u001b[32m0.98957\u001b[0m    0.53972      0.75556  2.83s\n",
      "      6     \u001b[36m0.43465\u001b[0m     \u001b[32m0.94167\u001b[0m    0.46158      0.76889  2.89s\n",
      "      7     \u001b[36m0.36016\u001b[0m     \u001b[32m0.90389\u001b[0m    0.39845      0.77889  2.84s\n",
      "      8     \u001b[36m0.30227\u001b[0m     \u001b[32m0.87471\u001b[0m    0.34557      0.78444  2.83s\n",
      "      9     \u001b[36m0.25546\u001b[0m     \u001b[32m0.85069\u001b[0m    0.30030      0.78556  2.83s\n",
      "     10     \u001b[36m0.21634\u001b[0m     \u001b[32m0.83342\u001b[0m    0.25958      0.79333  2.83s\n",
      "     11     \u001b[36m0.18340\u001b[0m     \u001b[32m0.81983\u001b[0m    0.22371      0.80000  2.84s\n",
      "     12     \u001b[36m0.15602\u001b[0m     \u001b[32m0.81050\u001b[0m    0.19250      0.80778  2.84s\n",
      "     13     \u001b[36m0.13245\u001b[0m     \u001b[32m0.80506\u001b[0m    0.16452      0.81000  2.83s\n",
      "     14     \u001b[36m0.11195\u001b[0m     \u001b[32m0.79909\u001b[0m    0.14010      0.81222  2.83s\n",
      "     15     \u001b[36m0.09437\u001b[0m     \u001b[32m0.79606\u001b[0m    0.11854      0.81333  2.83s\n",
      "     16     \u001b[36m0.07912\u001b[0m     \u001b[32m0.79201\u001b[0m    0.09989      0.81444  2.83s\n",
      "     17     \u001b[36m0.06615\u001b[0m     \u001b[32m0.78819\u001b[0m    0.08393      0.81556  2.83s\n",
      "     18     \u001b[36m0.05567\u001b[0m     \u001b[32m0.78312\u001b[0m    0.07109      0.81889  2.83s\n",
      "     19     \u001b[36m0.04711\u001b[0m     \u001b[32m0.78101\u001b[0m    0.06032      0.82000  2.83s\n",
      "     20     \u001b[36m0.04005\u001b[0m     \u001b[32m0.77937\u001b[0m    0.05139      0.82333  2.83s\n",
      "     21     \u001b[36m0.03442\u001b[0m     0.78032    0.04411      0.82778  2.83s\n",
      "     22     \u001b[36m0.02971\u001b[0m     0.78154    0.03801      0.82778  2.83s\n",
      "     23     \u001b[36m0.02585\u001b[0m     0.78190    0.03307      0.82889  2.83s\n",
      "     24     \u001b[36m0.02274\u001b[0m     0.78088    0.02912      0.83333  2.83s\n",
      "     25     \u001b[36m0.02023\u001b[0m     0.78020    0.02593      0.83778  2.83s\n",
      "     26     \u001b[36m0.01815\u001b[0m     0.77956    0.02329      0.83889  2.83s\n",
      "     27     \u001b[36m0.01641\u001b[0m     \u001b[32m0.77870\u001b[0m    0.02108      0.84111  2.83s\n",
      "     28     \u001b[36m0.01494\u001b[0m     \u001b[32m0.77816\u001b[0m    0.01920      0.84111  2.83s\n",
      "     29     \u001b[36m0.01368\u001b[0m     \u001b[32m0.77752\u001b[0m    0.01760      0.84111  2.83s\n",
      "     30     \u001b[36m0.01260\u001b[0m     \u001b[32m0.77723\u001b[0m    0.01621      0.84111  2.83s\n"
     ]
    }
   ],
   "source": [
    "def CNN(n_epochs):\n",
    "    net1 = NeuralNet(\n",
    "        layers=[\n",
    "        ('input', layers.InputLayer),\n",
    "        ('conv1', layers.Conv2DLayer),      #Convolutional layer.  Params defined below\n",
    "        ('pool1', layers.MaxPool2DLayer),   # Like downsampling, for execution speed\n",
    "        ('conv2', layers.Conv2DLayer),\n",
    "        ('hidden3', layers.DenseLayer),\n",
    "        ('output', layers.DenseLayer),\n",
    "        ],\n",
    "\n",
    "    input_shape=(None, 1, 32, 32),\n",
    "    conv1_num_filters=7, \n",
    "    conv1_filter_size=(3, 3), \n",
    "    conv1_nonlinearity=lasagne.nonlinearities.rectify,\n",
    "        \n",
    "    pool1_pool_size=(2, 2),\n",
    "        \n",
    "    conv2_num_filters=12, \n",
    "    conv2_filter_size=(2, 2),    \n",
    "    conv2_nonlinearity=lasagne.nonlinearities.rectify,\n",
    "        \n",
    "    hidden3_num_units=1000,\n",
    "    output_num_units=10, \n",
    "    output_nonlinearity=lasagne.nonlinearities.softmax,\n",
    "\n",
    "    update_learning_rate=0.0001,\n",
    "    update_momentum=0.9,\n",
    "\n",
    "    max_epochs=n_epochs,\n",
    "    verbose=1,\n",
    "    )\n",
    "    return net1\n",
    "\n",
    "cnn = CNN(30).fit(train,target) # train the CNN model for 15 epochs"
   ]
  },
  {
   "cell_type": "code",
   "execution_count": 39,
   "metadata": {
    "collapsed": true
   },
   "outputs": [],
   "source": [
    "# use the NN model to classify test data\n",
    "pred = cnn.predict(test)\n",
    "\n",
    "# save results\n",
    "np.savetxt('submission_cnn.csv', np.c_[range(1,len(test)+1),pred], delimiter=',', header = 'ImageId,Label', comments = '', fmt='%d')"
   ]
  },
  {
   "cell_type": "code",
   "execution_count": 40,
   "metadata": {
    "collapsed": false
   },
   "outputs": [
    {
     "data": {
      "text/plain": [
       "array([1, 2, 3, ..., 7, 8, 9], dtype=uint8)"
      ]
     },
     "execution_count": 40,
     "metadata": {},
     "output_type": "execute_result"
    }
   ],
   "source": [
    "target"
   ]
  },
  {
   "cell_type": "code",
   "execution_count": 41,
   "metadata": {
    "collapsed": false
   },
   "outputs": [
    {
     "name": "stdout",
     "output_type": "stream",
     "text": [
      "[1 2 3 ..., 7 8 9]\n"
     ]
    }
   ],
   "source": [
    "print target\n"
   ]
  },
  {
   "cell_type": "code",
   "execution_count": 44,
   "metadata": {
    "collapsed": false
   },
   "outputs": [
    {
     "data": {
      "text/plain": [
       "<matplotlib.image.AxesImage at 0x7fafdb28c350>"
      ]
     },
     "execution_count": 44,
     "metadata": {},
     "output_type": "execute_result"
    },
    {
     "data": {
      "image/png": "[encoded data removed]",
      "text/plain": [
       "<matplotlib.figure.Figure at 0x7fafdb369910>"
      ]
     },
     "metadata": {},
     "output_type": "display_data"
    }
   ],
   "source": [
    "plt.imshow(test[2][0], cmap=cm.binary)"
   ]
  },
  {
   "cell_type": "code",
   "execution_count": null,
   "metadata": {
    "collapsed": true
   },
   "outputs": [],
   "source": []
  }
 ],
 "metadata": {
  "kernelspec": {
   "display_name": "Python [Root]",
   "language": "python",
   "name": "Python [Root]"
  },
  "language_info": {
   "codemirror_mode": {
    "name": "ipython",
    "version": 2
   },
   "file_extension": ".py",
   "mimetype": "text/x-python",
   "name": "python",
   "nbconvert_exporter": "python",
   "pygments_lexer": "ipython2",
   "version": "2.7.12"
  }
 },
 "nbformat": 4,
 "nbformat_minor": 0
}
